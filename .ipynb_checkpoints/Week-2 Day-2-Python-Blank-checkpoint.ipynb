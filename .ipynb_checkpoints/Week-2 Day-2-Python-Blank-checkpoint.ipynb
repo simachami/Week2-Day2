{
 "cells": [
  {
   "cell_type": "markdown",
   "metadata": {},
   "source": [
    "# Functions, Scoping, Data Collections 1 & List Comprehensions"
   ]
  },
  {
   "cell_type": "markdown",
   "metadata": {},
   "source": [
    "## Tasks Today:\n",
    "\n",
    "<i>Monday Additions (or, and ... if statements)</i>\n",
    "\n",
    "1) String Manipulation <br>\n",
    " &nbsp;&nbsp;&nbsp;&nbsp; a) strip() <br>\n",
    " &nbsp;&nbsp;&nbsp;&nbsp; b) title() <br>\n",
    "2) Working With Lists <br>\n",
    " &nbsp;&nbsp;&nbsp;&nbsp; a) min() <br>\n",
    " &nbsp;&nbsp;&nbsp;&nbsp; b) max() <br>\n",
    " &nbsp;&nbsp;&nbsp;&nbsp; c) sum() <br>\n",
    " &nbsp;&nbsp;&nbsp;&nbsp; d) sort() <br>\n",
    " &nbsp;&nbsp;&nbsp;&nbsp; e) Copying a List <br>\n",
    " &nbsp;&nbsp;&nbsp;&nbsp; f) 'in' keyword <br>\n",
    " &nbsp;&nbsp;&nbsp;&nbsp; g) 'not in' keyword <br>\n",
    " &nbsp;&nbsp;&nbsp;&nbsp; i) Checking an Empty List <br>\n",
    " &nbsp;&nbsp;&nbsp;&nbsp; j) Removing Instances with a Loop <br>\n",
    "3) List Comprehensions <br>\n",
    "4) Tuples <br>\n",
    " &nbsp;&nbsp;&nbsp;&nbsp; a) sorted() <br>\n",
    "5) Functions <br>\n",
    " &nbsp;&nbsp;&nbsp;&nbsp; a) User-Defined vs. Built-In Functions <br>\n",
    " &nbsp;&nbsp;&nbsp;&nbsp; b) Accepting Parameters <br>\n",
    " &nbsp;&nbsp;&nbsp;&nbsp; c) Default Parameters <br>\n",
    " &nbsp;&nbsp;&nbsp;&nbsp; d) Making an Argument Optional <br>\n",
    " &nbsp;&nbsp;&nbsp;&nbsp; e) Keyword Arguments <br>\n",
    " &nbsp;&nbsp;&nbsp;&nbsp; f) Returning Values <br>\n",
    " &nbsp;&nbsp;&nbsp;&nbsp; g) *args <br>\n",
    " &nbsp;&nbsp;&nbsp;&nbsp; h) Docstring <br>\n",
    " &nbsp;&nbsp;&nbsp;&nbsp; i) Using a User Function in a Loop <br>\n",
    "6) Scope"
   ]
  },
  {
   "cell_type": "markdown",
   "metadata": {},
   "source": [
    "### String Manipulation"
   ]
  },
  {
   "cell_type": "markdown",
   "metadata": {},
   "source": [
    "##### .lstrip()"
   ]
  },
  {
   "cell_type": "code",
   "execution_count": 7,
   "metadata": {},
   "outputs": [
    {
     "name": "stdout",
     "output_type": "stream",
     "text": [
      "bc     Hello World\n"
     ]
    }
   ],
   "source": [
    "# string.lstrip()\n",
    "\n",
    "white_space_string = 'abc     Hello World'\n",
    "\n",
    "print(white_space_string.lstrip('  a'))\n"
   ]
  },
  {
   "cell_type": "markdown",
   "metadata": {},
   "source": [
    "##### .rstrip()"
   ]
  },
  {
   "cell_type": "code",
   "execution_count": 6,
   "metadata": {},
   "outputs": [
    {
     "name": "stdout",
     "output_type": "stream",
     "text": [
      "     Hello World\n",
      "     Hello World\n"
     ]
    }
   ],
   "source": [
    "# string.rstrip()\n",
    "print(white_space_string)\n",
    "\n",
    "white_space_string = white_space_string.rstrip(' a')\n",
    "\n",
    "print(white_space_string)"
   ]
  },
  {
   "cell_type": "markdown",
   "metadata": {},
   "source": [
    "##### .strip()"
   ]
  },
  {
   "cell_type": "code",
   "execution_count": 8,
   "metadata": {},
   "outputs": [
    {
     "data": {
      "text/plain": [
       "'bbzabcabc'"
      ]
     },
     "execution_count": 8,
     "metadata": {},
     "output_type": "execute_result"
    }
   ],
   "source": [
    "# string.strip()\n",
    "\n",
    "'z       bbzabcabczz     z'.strip(' z')  "
   ]
  },
  {
   "cell_type": "markdown",
   "metadata": {},
   "source": [
    "##### .title()"
   ]
  },
  {
   "cell_type": "code",
   "execution_count": 10,
   "metadata": {},
   "outputs": [
    {
     "name": "stdout",
     "output_type": "stream",
     "text": [
      "Matrix Reloaded\n"
     ]
    },
    {
     "data": {
      "text/plain": [
       "'MATRIX RELOADED'"
      ]
     },
     "execution_count": 10,
     "metadata": {},
     "output_type": "execute_result"
    }
   ],
   "source": [
    "# string.title()\n",
    "matrix_string = 'matrix reloaded'\n",
    "\n",
    "print(matrix_string.title())\n",
    "\n",
    "matrix_string = matrix_string.upper()\n",
    "\n",
    "matrix_string\n",
    "\n",
    "print(matrix_string.lower())"
   ]
  },
  {
   "cell_type": "markdown",
   "metadata": {},
   "source": [
    "### String Exercise <br>\n",
    "<p>Strip all white space and capitalize every name in the list given</p>"
   ]
  },
  {
   "cell_type": "code",
   "execution_count": 18,
   "metadata": {},
   "outputs": [
    {
     "name": "stdout",
     "output_type": "stream",
     "text": [
      "['coNNor', 'max', 'EVan', 'JORDAN']\n",
      "['CoNNor', 'Max', 'EVan', 'JORDAN']\n"
     ]
    }
   ],
   "source": [
    "names = ['    coNNor', 'max', ' EVan ', 'JORDAN']\n",
    "# HINT: You will need to use a for loop for iteration\n",
    "\n",
    "namesList = []\n",
    "namesListFinal =[]\n",
    "for i in names:\n",
    "    namesList.append(i.strip())\n",
    "print(namesList)\n",
    "\n",
    "for i in namesList:\n",
    "    firstLetter=i[0].upper()\n",
    "    namesListFinal.append(firstLetter + i[1:])\n",
    "print(namesListFinal)"
   ]
  },
  {
   "cell_type": "code",
   "execution_count": 22,
   "metadata": {},
   "outputs": [
    {
     "name": "stdout",
     "output_type": "stream",
     "text": [
      "Connor\n",
      "Max\n",
      "Evan\n",
      "Jordan\n",
      "CoNNor\n",
      "Max\n",
      "EVan\n",
      "JORDAN\n"
     ]
    }
   ],
   "source": [
    "expected_output = ['coNNor', 'max', ' EVan ', 'JORDAN']\n",
    "\n",
    "for name in names:\n",
    "    name = name.strip(' ')\n",
    "    print(name.title())\n",
    "    \n",
    "for name in names:\n",
    "    name = name.strip(' ')\n",
    "    if name[0] != name[0].upper():\n",
    "        name = name.replace(name[0], name[0].upper())\n",
    "    print(name)"
   ]
  },
  {
   "cell_type": "markdown",
   "metadata": {},
   "source": [
    "### Working With Lists"
   ]
  },
  {
   "cell_type": "markdown",
   "metadata": {},
   "source": [
    "##### min()"
   ]
  },
  {
   "cell_type": "code",
   "execution_count": null,
   "metadata": {},
   "outputs": [],
   "source": [
    "# min(list)\n",
    "min([10,299,1,89])"
   ]
  },
  {
   "cell_type": "markdown",
   "metadata": {},
   "source": [
    "##### max()"
   ]
  },
  {
   "cell_type": "code",
   "execution_count": null,
   "metadata": {},
   "outputs": [],
   "source": [
    "# max(list)\n",
    "\n",
    "max([9999,1,9,10])"
   ]
  },
  {
   "cell_type": "markdown",
   "metadata": {},
   "source": [
    "##### sum()"
   ]
  },
  {
   "cell_type": "code",
   "execution_count": null,
   "metadata": {},
   "outputs": [],
   "source": [
    "# sum(list)\n",
    "\n",
    "sum([99,1,80,200])"
   ]
  },
  {
   "cell_type": "markdown",
   "metadata": {},
   "source": [
    "##### sorted()"
   ]
  },
  {
   "cell_type": "code",
   "execution_count": 23,
   "metadata": {},
   "outputs": [
    {
     "name": "stdout",
     "output_type": "stream",
     "text": [
      "unsorted_list = [99, 1, 80, 100, 2] [1, 2, 80, 99, 100]\n"
     ]
    }
   ],
   "source": [
    "# sorted(list)\n",
    "\n",
    "unsorted_list = [99,1,80,100,2]\n",
    "\n",
    "sorted_list = sorted(unsorted_list)\n",
    "\n",
    "print(f'{unsorted_list = } {sorted_list}')"
   ]
  },
  {
   "cell_type": "markdown",
   "metadata": {},
   "source": [
    "##### .sort() <br>\n",
    "<p>Difference between sort and sorted, is that sorted doesn't change original list it returns a copy, while .sort changes the original list</p>"
   ]
  },
  {
   "cell_type": "code",
   "execution_count": 25,
   "metadata": {},
   "outputs": [
    {
     "name": "stdout",
     "output_type": "stream",
     "text": [
      "[1, 1, 2, 23, 33, 55, 88]\n"
     ]
    }
   ],
   "source": [
    "# list.sort()\n",
    "\n",
    "list_to_be_sorted = [88,23,33,55,1,2,1]\n",
    "\n",
    "list_to_be_sorted.sort()\n",
    "print(list_to_be_sorted)\n",
    "\n",
    "# use sorted when you don't want to alter original list, use .sort() when you want to alter original list"
   ]
  },
  {
   "cell_type": "code",
   "execution_count": 26,
   "metadata": {},
   "outputs": [
    {
     "name": "stdout",
     "output_type": "stream",
     "text": [
      "None\n",
      "[1, 3, 5, 99]\n"
     ]
    }
   ],
   "source": [
    "random_list=[99,1,3,5]\n",
    "none_value = random_list.sort()\n",
    "\n",
    "print(none_value)\n",
    "\n",
    "print(random_list)"
   ]
  },
  {
   "cell_type": "code",
   "execution_count": 27,
   "metadata": {},
   "outputs": [
    {
     "name": "stdout",
     "output_type": "stream",
     "text": [
      "None\n",
      "[1, 1, 2, 5]\n"
     ]
    }
   ],
   "source": [
    "print([3,6,1].sort())\n",
    "print(sorted([2,1,5,1]))"
   ]
  },
  {
   "cell_type": "markdown",
   "metadata": {},
   "source": [
    "##### Copying a List"
   ]
  },
  {
   "cell_type": "code",
   "execution_count": 32,
   "metadata": {},
   "outputs": [
    {
     "name": "stdout",
     "output_type": "stream",
     "text": [
      "['Micael', 'Ben', 'Sima', 'Christian']\n",
      "['micael', 'ben', 'sima', 'christian']\n"
     ]
    }
   ],
   "source": [
    "# [:] copies a list, doesn't alter original\n",
    "\n",
    "list_dont_change = ['micael', 'ben', 'sima', 'christian']\n",
    "\n",
    "list_copy = list_dont_change[:]\n",
    "\n",
    "\n",
    "for i in range(len(list_copy)):\n",
    "    list_copy[i] = list_copy[i].title()\n",
    "\n",
    "print(list_copy)\n",
    "print(list_dont_change)"
   ]
  },
  {
   "cell_type": "code",
   "execution_count": 43,
   "metadata": {},
   "outputs": [
    {
     "data": {
      "text/plain": [
       "['Ben', 'Sima']"
      ]
     },
     "execution_count": 43,
     "metadata": {},
     "output_type": "execute_result"
    }
   ],
   "source": [
    "#slicing\n",
    "\n",
    "list_copy[1:3]\n",
    "\n",
    "#list_copy[::2]"
   ]
  },
  {
   "cell_type": "markdown",
   "metadata": {},
   "source": [
    "##### 'in' keyword"
   ]
  },
  {
   "cell_type": "code",
   "execution_count": 44,
   "metadata": {},
   "outputs": [
    {
     "name": "stdout",
     "output_type": "stream",
     "text": [
      "True\n"
     ]
    }
   ],
   "source": [
    "#membership check -> returns a boolen statement\n",
    "\n",
    "print('Christian' in list_copy)\n",
    "\n",
    "if 'Christian' in list_copy:\n",
    "    list_copy.remove('Christian')"
   ]
  },
  {
   "cell_type": "code",
   "execution_count": 46,
   "metadata": {},
   "outputs": [
    {
     "name": "stdout",
     "output_type": "stream",
     "text": [
      "1\n",
      "Congrats on graduation, you are no longer a student\n"
     ]
    }
   ],
   "source": [
    "if 'Ben' in list_copy:\n",
    "    ben_index = list_copy.index(\"Ben\")\n",
    "    print(ben_index)\n",
    "    removed_student = list_copy.pop(ben_index)\n",
    "    print(f'Congrats {removed_student} on graduation, you are no longer a student')"
   ]
  },
  {
   "cell_type": "markdown",
   "metadata": {},
   "source": [
    "##### 'not in' keyword"
   ]
  },
  {
   "cell_type": "code",
   "execution_count": null,
   "metadata": {},
   "outputs": [],
   "source": [
    "if \"Ben\" not in list_copy:\n",
    "    print('miss you already')"
   ]
  },
  {
   "cell_type": "markdown",
   "metadata": {},
   "source": [
    "##### Checking an Empty List"
   ]
  },
  {
   "cell_type": "code",
   "execution_count": 48,
   "metadata": {},
   "outputs": [
    {
     "name": "stdout",
     "output_type": "stream",
     "text": [
      "list with one item\n",
      "not empty list\n"
     ]
    }
   ],
   "source": [
    "# if l_1: or if l_1 = []\n",
    "\n",
    "#if <list> returns true as long as it has one element or more\n",
    "\n",
    "if []:\n",
    "    print('empty list')\n",
    "    \n",
    "if [1]:\n",
    "    print('list with one item')\n",
    "    \n",
    "if not []:\n",
    "    print('not empty list')"
   ]
  },
  {
   "cell_type": "markdown",
   "metadata": {},
   "source": [
    "##### Removing Instances with a Loop"
   ]
  },
  {
   "cell_type": "code",
   "execution_count": 50,
   "metadata": {},
   "outputs": [
    {
     "name": "stdout",
     "output_type": "stream",
     "text": [
      "['ryan', 'alex', 'dylan', 'dylan', 'ryan', 'sean']\n",
      "['ryan', 'dylan', 'dylan', 'ryan', 'sean']\n",
      "Dylan win this time\n"
     ]
    }
   ],
   "source": [
    "# while, remove\n",
    "\n",
    "instructors = ['ryan' , 'alex' , 'alex', 'dylan', 'dylan', 'ryan', 'sean']\n",
    "\n",
    "while 'alex' in instructors:\n",
    "    instructors.remove('alex')\n",
    "    print(instructors)\n",
    "    \n",
    "print('Dylan win this time')\n"
   ]
  },
  {
   "cell_type": "markdown",
   "metadata": {},
   "source": [
    "### List Exercise <br>\n",
    "<p>Remove all duplicates<br><b>Extra: Create a program that will remove any duplicates from a given list</b></p>"
   ]
  },
  {
   "cell_type": "code",
   "execution_count": 54,
   "metadata": {},
   "outputs": [
    {
     "name": "stdout",
     "output_type": "stream",
     "text": [
      "['connor', 'bob', 'evan', 'max', 2, 3, 4, 'kevin']\n"
     ]
    }
   ],
   "source": [
    "names = ['connor', 'connor', 'bob', 'connor', 'evan', 'max', 'evan', 2, 2, 2, 3, 3, 4, 'bob', 'kevin']\n",
    "# Hint 1: You will need an append\n",
    "# Hint 2: Using an empty list will make life easier\n",
    "\n",
    "newName = []\n",
    "for i in names:\n",
    "    if i not in newName:\n",
    "        newName.append(i)\n",
    "print(newName)\n",
    "\n",
    "\n"
   ]
  },
  {
   "cell_type": "code",
   "execution_count": null,
   "metadata": {},
   "outputs": [],
   "source": [
    "#instructors explanation\n",
    "\n",
    "for name in names:\n",
    "    print(name)\n",
    "    if names.count(name) > 1:\n",
    "        names.remove(name)"
   ]
  },
  {
   "cell_type": "markdown",
   "metadata": {},
   "source": [
    "### List Comprehensions <br>\n",
    "<p>Creating a quickly generated list to work with<br>*result*  = [*transform*    *iteration*         *filter*     ]</p>"
   ]
  },
  {
   "cell_type": "markdown",
   "metadata": {},
   "source": [
    "##### In a list comprehension we have a few pieces:\n",
    "1. The first is the counter/ variable - IN this the variable is x\n",
    "2. then we have a transform for the variable\n",
    "3. The finale part of a list comp is called the condition\n",
    "\n",
    "```python\n",
    "    [variable, transform, condition]\n",
    "```"
   ]
  },
  {
   "cell_type": "code",
   "execution_count": 56,
   "metadata": {},
   "outputs": [
    {
     "name": "stdout",
     "output_type": "stream",
     "text": [
      "[0, 1, 2, 3, 4, 5, 6, 7, 8, 9]\n",
      "[0, 1, 2, 3, 4, 5, 6, 7, 8, 9]\n"
     ]
    }
   ],
   "source": [
    "# number comprehension\n",
    "\n",
    "# With a regular for loop\n",
    "\n",
    "num_list = []\n",
    "\n",
    "for num in range(10):\n",
    "    num_list.append(num)\n",
    "print(num_list)\n",
    "\n",
    "\n",
    "num_list_2 = [num for num in range(10)]\n",
    "print(num_list_2)\n",
    "# IN a list comprehension we have a few pieces:\n",
    "# The first is the counter/ variable - IN this the variable is x\n",
    "# Then we have a transform for the variable \n",
    "# The finale part of a list comp is called the condition\n",
    "#[variable, transform, condition]\n",
    "\n",
    "\n",
    "num_list = []\n",
    "\n",
    "for num in range(10):\n",
    "    if num % 2 == 0 \n",
    "    num_list.append(num)\n",
    "print(num_list)\n",
    "\n",
    "\n",
    "\n",
    "num_list_2 = [num for num in range(10) if num % 2 == 0]\n",
    "print(num_list_2)\n"
   ]
  },
  {
   "cell_type": "code",
   "execution_count": null,
   "metadata": {},
   "outputs": [],
   "source": [
    "odd_nums = []\n",
    "for num in range(10):\n",
    "    if num % 2 != 0:\n",
    "        odd_nums.append(num)"
   ]
  },
  {
   "cell_type": "markdown",
   "metadata": {},
   "source": [
    "There are a few benefits to using List comprehensions. The most obvious would be that we now have shorter code to work with instead of using 3+ lines of code in the for loop variant.\n",
    "\n",
    "Another is an added benefit to memory usage. Since the list's memory is allocated first before adding elements to it, we don't have to resize the list once we add elements to it.\n",
    "\n",
    "Lastly, list comprehensions are considered the \"pythonic\" way to write code by the PEP8 standards (Python Style Guide)"
   ]
  },
  {
   "cell_type": "code",
   "execution_count": 59,
   "metadata": {},
   "outputs": [
    {
     "name": "stdout",
     "output_type": "stream",
     "text": [
      "[1, 4, 9, 16, 25, 36, 49, 64, 81, 100]\n"
     ]
    }
   ],
   "source": [
    "# square number comprehension\n",
    "\n",
    "squared_num = []\n",
    "for num in range(1,11):\n",
    "    squared_num.append(num**2)\n",
    "print(squared_num)\n",
    "\n",
    "\n",
    "print([num**2 for num in range(1,11)])"
   ]
  },
  {
   "cell_type": "code",
   "execution_count": 61,
   "metadata": {},
   "outputs": [
    {
     "ename": "NameError",
     "evalue": "name 'title' is not defined",
     "output_type": "error",
     "traceback": [
      "\u001b[1;31m---------------------------------------------------------------------------\u001b[0m",
      "\u001b[1;31mNameError\u001b[0m                                 Traceback (most recent call last)",
      "Cell \u001b[1;32mIn[61], line 10\u001b[0m\n\u001b[0;32m      7\u001b[0m title_students \u001b[38;5;241m=\u001b[39m []\n\u001b[0;32m      9\u001b[0m \u001b[38;5;28;01mfor\u001b[39;00m name \u001b[38;5;129;01min\u001b[39;00m student_list_2:\n\u001b[1;32m---> 10\u001b[0m     \u001b[43mtitle\u001b[49m\u001b[38;5;241m.\u001b[39mstudents\u001b[38;5;241m.\u001b[39mappend(name[\u001b[38;5;241m0\u001b[39m]\u001b[38;5;241m.\u001b[39mupper()\u001b[38;5;241m+\u001b[39mname[\u001b[38;5;241m1\u001b[39m:])\n\u001b[0;32m     12\u001b[0m [name\u001b[38;5;241m.\u001b[39mtitle()\u001b[38;5;241m.\u001b[39mupper()\u001b[38;5;241m+\u001b[39mname[\u001b[38;5;241m1\u001b[39m:] \u001b[38;5;28;01mfor\u001b[39;00m name \u001b[38;5;129;01min\u001b[39;00m student_list_2]\n",
      "\u001b[1;31mNameError\u001b[0m: name 'title' is not defined"
     ]
    }
   ],
   "source": [
    "# string comprehension\n",
    "\n",
    "student_list_2 = ['david', 'mehrab', 'sima', 'ben', 'ben']\n",
    "\n",
    "[name[0].upper()+name[1:] for name in student_list_2]\n",
    "\n",
    "title_students = []\n",
    "\n",
    "for name in student_list_2:\n",
    "    title.students.append(name[0].upper()+name[1:])\n",
    "    \n",
    "#[name.title().upper()+name[1:] for name in student_list_2]\n"
   ]
  },
  {
   "cell_type": "code",
   "execution_count": null,
   "metadata": {},
   "outputs": [],
   "source": []
  },
  {
   "cell_type": "code",
   "execution_count": null,
   "metadata": {},
   "outputs": [],
   "source": []
  },
  {
   "cell_type": "markdown",
   "metadata": {},
   "source": [
    "### Tuples <br>\n",
    "<p><b>Defined as an immutable list</b></p><br>Seperated by commas using parenthesis"
   ]
  },
  {
   "cell_type": "code",
   "execution_count": 65,
   "metadata": {},
   "outputs": [
    {
     "name": "stdout",
     "output_type": "stream",
     "text": [
      "True\n"
     ]
    },
    {
     "data": {
      "text/plain": [
       "tuple"
      ]
     },
     "execution_count": 65,
     "metadata": {},
     "output_type": "execute_result"
    }
   ],
   "source": [
    "first_tuple = (1,4,9,'a','b')\n",
    "\n",
    "print(isinstance(first_tuple,tuple))\n",
    "\n",
    "another_tuple = 1,2,4,'b','z'\n",
    "type(another_tuple)\n",
    "\n",
    "number_tuple = 1,\n",
    "\n",
    "type(number_tuple)"
   ]
  },
  {
   "cell_type": "code",
   "execution_count": null,
   "metadata": {},
   "outputs": [],
   "source": [
    "first_tuple[3]\n",
    "\n",
    "for e in first_tuple:\n",
    "    print(e)"
   ]
  },
  {
   "cell_type": "markdown",
   "metadata": {},
   "source": [
    "##### sorted()"
   ]
  },
  {
   "cell_type": "code",
   "execution_count": 66,
   "metadata": {},
   "outputs": [
    {
     "name": "stdout",
     "output_type": "stream",
     "text": [
      "[1, 9, 99, 100, 101]\n",
      "(1, 9, 99, 100, 101) True\n"
     ]
    }
   ],
   "source": [
    "unsorted_tupe = 9,1,100,99,101\n",
    "\n",
    "sorted_list = sorted(unsorted_tupe)\n",
    "\n",
    "print(sorted_list)\n",
    "\n",
    "sorted_tuple = tuple(sorted_list)\n",
    "\n",
    "print(sorted_tuple, isinstance(sorted_tuple, tuple))"
   ]
  },
  {
   "cell_type": "markdown",
   "metadata": {},
   "source": [
    "##### Adding values to a Tuple"
   ]
  },
  {
   "cell_type": "code",
   "execution_count": 67,
   "metadata": {},
   "outputs": [
    {
     "name": "stdout",
     "output_type": "stream",
     "text": [
      "(1, 9, 99, 100, 101, 99, 23, 14)\n"
     ]
    }
   ],
   "source": [
    "# sorted_tuple.append(11) does not work\n",
    "\n",
    "sorted_tuple + (33,100,24)\n",
    "\n",
    "sorted_tuple\n",
    "\n",
    "new_tuple = sorted_tuple + (33,100,24)\n",
    "\n",
    "sorted_tuple += 99,23,14\n",
    "\n",
    "print(sorted_tuple)"
   ]
  },
  {
   "cell_type": "markdown",
   "metadata": {},
   "source": [
    "## Functions"
   ]
  },
  {
   "cell_type": "markdown",
   "metadata": {},
   "source": [
    "##### User-Defined vs. Built-In Functions"
   ]
  },
  {
   "cell_type": "code",
   "execution_count": null,
   "metadata": {},
   "outputs": [],
   "source": [
    "#built-in functions\n",
    "print()\n",
    "len()\n",
    "int()\n",
    "range()\n",
    "tuple()\n"
   ]
  },
  {
   "cell_type": "code",
   "execution_count": 69,
   "metadata": {},
   "outputs": [
    {
     "name": "stdout",
     "output_type": "stream",
     "text": [
      "hello matrix\n"
     ]
    }
   ],
   "source": [
    "#user-defined\n",
    "\n",
    "#def <name of the function>(<optional parameters>):\n",
    "#    <func code block>\n",
    "#    <typically a return>\n",
    "\n",
    "def greeting():\n",
    "    print(\"hello matrix\")\n",
    "    \n",
    "greeting()"
   ]
  },
  {
   "cell_type": "markdown",
   "metadata": {},
   "source": [
    "##### Accepting Parameters"
   ]
  },
  {
   "cell_type": "code",
   "execution_count": 73,
   "metadata": {},
   "outputs": [
    {
     "name": "stdout",
     "output_type": "stream",
     "text": [
      "Greeting Michael\n",
      "Greeting Christian\n",
      "Greeting David\n",
      "Greeting Mehrab\n",
      "Greeting Sima\n",
      "Greeting Ben\n",
      "Greeting Ben\n"
     ]
    }
   ],
   "source": [
    "def greetStudent(student_name):\n",
    "    print(f'Greeting {student_name.title()}')\n",
    "    \n",
    "greetStudent('michael')\n",
    "\n",
    "greetStudent('Christian')\n",
    "\n",
    "for name in student_list_2:\n",
    "    greetStudent(name)\n",
    "    "
   ]
  },
  {
   "cell_type": "markdown",
   "metadata": {},
   "source": [
    "##### Default Parameters"
   ]
  },
  {
   "cell_type": "code",
   "execution_count": 75,
   "metadata": {},
   "outputs": [
    {
     "name": "stdout",
     "output_type": "stream",
     "text": [
      "Greetings agent James Bond\n",
      "Greetings agent Dylan Smith\n"
     ]
    }
   ],
   "source": [
    "def greetAgent(first_name,last_name=\"Bond\"):\n",
    "    print(f'Greetings agent {first_name} {last_name}')\n",
    "greetAgent('James')\n",
    "\n",
    "greetAgent('Dylan', 'Smith')\n"
   ]
  },
  {
   "cell_type": "code",
   "execution_count": null,
   "metadata": {},
   "outputs": [],
   "source": [
    "#bug default params come last\n",
    "def greetAgent(last_name=\"Bond\", first_name):\n",
    "    print(f'Greetings agent {first_name} {last_name}')\n",
    "    \n",
    "greetAgent('James')"
   ]
  },
  {
   "cell_type": "markdown",
   "metadata": {},
   "source": [
    "##### Making an Argument Optional"
   ]
  },
  {
   "cell_type": "code",
   "execution_count": 83,
   "metadata": {},
   "outputs": [
    {
     "name": "stdout",
     "output_type": "stream",
     "text": [
      "Greetings dylan  Smith\n",
      "Greetings dylan lance Smith\n"
     ]
    }
   ],
   "source": [
    "def greet_full_name(first_name, middle_name='', last_name='Smith'):\n",
    "    print(f'Greetings {first_name} {middle_name} {last_name}')\n",
    "          \n",
    "greet_full_name('dylan')\n",
    "\n",
    "greet_full_name('dylan', 'lance')"
   ]
  },
  {
   "cell_type": "markdown",
   "metadata": {},
   "source": [
    "##### Keyword Arguments"
   ]
  },
  {
   "cell_type": "code",
   "execution_count": 84,
   "metadata": {},
   "outputs": [
    {
     "name": "stdout",
     "output_type": "stream",
     "text": [
      "Greetings Sean  Currie\n"
     ]
    }
   ],
   "source": [
    "# last_name='Max', first_name='Smith' in the function call\n",
    "greet_full_name(last_name='Currie', first_name='Sean')\n",
    "# see above"
   ]
  },
  {
   "cell_type": "markdown",
   "metadata": {},
   "source": [
    "# Creating a start, stop, step function"
   ]
  },
  {
   "cell_type": "code",
   "execution_count": 87,
   "metadata": {},
   "outputs": [
    {
     "name": "stdout",
     "output_type": "stream",
     "text": [
      "[1, 2, 3, 4, 5, 6, 7, 8, 9, 10, 11, 12, 13, 14, 15, 16, 17, 18, 19]\n",
      "[1, 3, 5, 7, 9, 11, 13, 15, 17, 19]\n"
     ]
    }
   ],
   "source": [
    "def my_range(start,stop,step):\n",
    "    range_list = []\n",
    "    current_number = start\n",
    "    while current_number < stop:\n",
    "        range_list.append(current_number)\n",
    "        current_number += step\n",
    "    print(range_list)\n",
    "    \n",
    "my_range(1,20,1)\n",
    "my_range(1,20,2)"
   ]
  },
  {
   "cell_type": "code",
   "execution_count": null,
   "metadata": {},
   "outputs": [],
   "source": []
  },
  {
   "cell_type": "raw",
   "metadata": {},
   "source": [
    "##### Returning Values"
   ]
  },
  {
   "cell_type": "code",
   "execution_count": 88,
   "metadata": {},
   "outputs": [
    {
     "name": "stdout",
     "output_type": "stream",
     "text": [
      "0\n",
      "1\n",
      "2\n",
      "3\n",
      "4\n",
      "5\n",
      "6\n",
      "7\n",
      "8\n",
      "9\n",
      "range(0, 10)\n"
     ]
    }
   ],
   "source": [
    "for i in range(10):\n",
    "    print(i)\n",
    "    \n",
    "print(range(10))"
   ]
  },
  {
   "cell_type": "code",
   "execution_count": 89,
   "metadata": {},
   "outputs": [
    {
     "data": {
      "text/plain": [
       "21"
      ]
     },
     "execution_count": 89,
     "metadata": {},
     "output_type": "execute_result"
    }
   ],
   "source": [
    "def add_numbers(num1,num2):\n",
    "    my_sum = num1+num2\n",
    "    return my_sum\n",
    "f'your sum is {add_numbers(10,11)}'"
   ]
  },
  {
   "cell_type": "markdown",
   "metadata": {},
   "source": [
    "##### *args"
   ]
  },
  {
   "cell_type": "code",
   "execution_count": null,
   "metadata": {},
   "outputs": [],
   "source": []
  },
  {
   "cell_type": "markdown",
   "metadata": {},
   "source": [
    "##### Docstring"
   ]
  },
  {
   "cell_type": "code",
   "execution_count": null,
   "metadata": {},
   "outputs": [],
   "source": []
  },
  {
   "cell_type": "markdown",
   "metadata": {},
   "source": [
    "##### Using a User Function in a Loop"
   ]
  },
  {
   "cell_type": "code",
   "execution_count": null,
   "metadata": {},
   "outputs": [],
   "source": []
  },
  {
   "cell_type": "markdown",
   "metadata": {},
   "source": [
    "## Function Exercise <br>\n",
    "<p>Write a function that loops through a list of first_names and a list of last_names, combines the two and return a list of full_names</p>"
   ]
  },
  {
   "cell_type": "code",
   "execution_count": null,
   "metadata": {},
   "outputs": [],
   "source": [
    "first_name = ['John', 'Evan', 'Jordan', 'Max']\n",
    "last_name = ['Smith', 'Smith', 'Williams', 'Bell']\n",
    "\n",
    "# Output: ['John Smith', 'Evan Smith', 'Jordan Williams', 'Max Bell']\n"
   ]
  },
  {
   "cell_type": "markdown",
   "metadata": {},
   "source": [
    "## Scope <br>\n",
    "<p>Scope refers to the ability to access variables, different types of scope include:<br>a) Global<br>b) Function (local)<br>c) Class (local)</p>"
   ]
  },
  {
   "cell_type": "code",
   "execution_count": null,
   "metadata": {},
   "outputs": [],
   "source": []
  },
  {
   "cell_type": "markdown",
   "metadata": {},
   "source": [
    "# Exercises"
   ]
  },
  {
   "cell_type": "markdown",
   "metadata": {},
   "source": [
    "## Exercise 1 <br>\n",
    "<p>Given a list as a parameter,write a function that returns a list of numbers that are less than ten</b></i></p><br>\n",
    "<p> For example: Say your input parameter to the function is [1,11,14,5,8,9]...Your output should [1,5,8,9]</p>"
   ]
  },
  {
   "cell_type": "code",
   "execution_count": 95,
   "metadata": {},
   "outputs": [
    {
     "name": "stdout",
     "output_type": "stream",
     "text": [
      "1\n",
      "5\n",
      "8\n",
      "9\n"
     ]
    }
   ],
   "source": [
    "# Use the following list - [1,11,14,5,8,9]\n",
    "\n",
    "l_1 = [1,11,14,5,8,9]\n",
    "\n",
    "#define function\n",
    "def numbersLessThanTen(numberList):\n",
    "    #loop through list items\n",
    "    for i in numberList:\n",
    "        #check if current item is less than 10\n",
    "        if i < 10:\n",
    "            #if item is less than 10, print. Else, keep looping\n",
    "            print(i)\n",
    "            \n",
    "#call function and pass in the list\n",
    "numbersLessThanTen(l_1)"
   ]
  },
  {
   "cell_type": "markdown",
   "metadata": {},
   "source": [
    "## Exercise 2 <br>\n",
    "<p>Write a function that takes in two lists and returns the two lists merged together and sorted<br>\n",
    "<b><i>Hint: You can use the .sort() method</i></b></p>"
   ]
  },
  {
   "cell_type": "code",
   "execution_count": 98,
   "metadata": {},
   "outputs": [
    {
     "name": "stdout",
     "output_type": "stream",
     "text": [
      "[1, 2, 3, 3, 4, 4, 5, 5, 6, 6, 7, 8, 10]\n"
     ]
    }
   ],
   "source": [
    "l_1 = [1,2,3,4,5,6]\n",
    "l_2 = [3,4,5,6,7,8,10]\n",
    "\n",
    "def mergeAndSortLists(l_1, l_2):\n",
    "    # create a new list l_3. This list will equal l_1 and l_2 added together. \n",
    "    # Simply use the + with l_1 and l_2 to combine them\n",
    "    l_3 = l_1 + l_2\n",
    "    #call .sort() on l_3. \n",
    "    l_3.sort()\n",
    "    #return l_3\n",
    "    return l_3\n",
    "print(mergeAndSortLists(l_1, l_2))\n",
    "\n",
    "    "
   ]
  },
  {
   "cell_type": "code",
   "execution_count": null,
   "metadata": {},
   "outputs": [],
   "source": []
  }
 ],
 "metadata": {
  "kernelspec": {
   "display_name": "Python 3 (ipykernel)",
   "language": "python",
   "name": "python3"
  },
  "language_info": {
   "codemirror_mode": {
    "name": "ipython",
    "version": 3
   },
   "file_extension": ".py",
   "mimetype": "text/x-python",
   "name": "python",
   "nbconvert_exporter": "python",
   "pygments_lexer": "ipython3",
   "version": "3.10.9"
  }
 },
 "nbformat": 4,
 "nbformat_minor": 2
}
